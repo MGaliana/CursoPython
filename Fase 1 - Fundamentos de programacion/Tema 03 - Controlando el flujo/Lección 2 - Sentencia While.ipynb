{
 "cells": [
  {
   "cell_type": "code",
   "execution_count": 1,
   "metadata": {
    "collapsed": false
   },
   "outputs": [
    {
     "name": "stdout",
     "output_type": "stream",
     "text": [
      "c= 1\n",
      "c= 2\n",
      "c= 3\n",
      "c= 4\n",
      "c= 5\n",
      "c= 6\n"
     ]
    }
   ],
   "source": [
    "c = 0\n",
    "while c <= 5:\n",
    "    c+=1\n",
    "    print(\"c=\", c)"
   ]
  },
  {
   "cell_type": "code",
   "execution_count": 2,
   "metadata": {
    "collapsed": false
   },
   "outputs": [
    {
     "name": "stdout",
     "output_type": "stream",
     "text": [
      "c= 1\n",
      "c= 2\n",
      "c= 3\n",
      "c= 4\n",
      "c= 5\n",
      "c= 6\n",
      "Completada la iteración c vale 6\n"
     ]
    }
   ],
   "source": [
    "c = 0\n",
    "while c <= 5:\n",
    "    c+=1\n",
    "    print(\"c=\", c)\n",
    "else:\n",
    "    print(\"Completada la iteración c vale\", c)"
   ]
  },
  {
   "cell_type": "code",
   "execution_count": 5,
   "metadata": {
    "collapsed": false
   },
   "outputs": [
    {
     "name": "stdout",
     "output_type": "stream",
     "text": [
      "c= 1\n",
      "c= 2\n",
      "c= 3\n",
      "rompemos bucle 4\n"
     ]
    }
   ],
   "source": [
    "c = 0\n",
    "while c <= 5:\n",
    "    c+=1\n",
    "    if (c ==4):\n",
    "        print(\"rompemos bucle\",c)\n",
    "        break\n",
    "    print(\"c=\", c)\n",
    "else:\n",
    "    print(\"Completada la iteración c vale\", c)"
   ]
  },
  {
   "cell_type": "code",
   "execution_count": 8,
   "metadata": {
    "collapsed": false
   },
   "outputs": [
    {
     "name": "stdout",
     "output_type": "stream",
     "text": [
      "c= 1\n",
      "c= 2\n",
      "c= 3\n",
      "c= 5\n",
      "c= 6\n",
      "Completada la iteración c vale 6\n"
     ]
    }
   ],
   "source": [
    "c = 0\n",
    "while c <= 5:\n",
    "    c+=1\n",
    "    if c ==4:\n",
    "        # print(\"Continuamos bucle\",c)\n",
    "        continue\n",
    "    print(\"c=\", c)\n",
    "else:\n",
    "    print(\"Completada la iteración c vale\", c)"
   ]
  },
  {
   "cell_type": "code",
   "execution_count": null,
   "metadata": {
    "collapsed": false
   },
   "outputs": [],
   "source": [
    "print(\"Bienvenido al menu\")\n",
    "while(True):\n",
    "    print(\"\"\"Que quieres hacer?\n",
    "    1) Saludar\n",
    "    2) Sumar dos numeros\n",
    "    3) Salir\"\"\")\n",
    "    opcion = input()\n",
    "    if opcion == \"1\":\n",
    "        print (\"Hola\")\n",
    "    elif opcion == \"2\":\n",
    "        n1 = float(input(\"Primer numero: \"))\n",
    "        n2 = float(input(\"Segundo numero: \"))\n",
    "        print(\"Resultado\", n1 + n2)\n",
    "    elif opcion == \"3\":\n",
    "        print (\"Hasta luego\")\n",
    "        break\n",
    "    else:\n",
    "        print (\"Comando desconocido\")"
   ]
  },
  {
   "cell_type": "code",
   "execution_count": null,
   "metadata": {
    "collapsed": true
   },
   "outputs": [],
   "source": []
  }
 ],
 "metadata": {
  "kernelspec": {
   "display_name": "Python [default]",
   "language": "python",
   "name": "python3"
  },
  "language_info": {
   "codemirror_mode": {
    "name": "ipython",
    "version": 3
   },
   "file_extension": ".py",
   "mimetype": "text/x-python",
   "name": "python",
   "nbconvert_exporter": "python",
   "pygments_lexer": "ipython3",
   "version": "3.5.2"
  }
 },
 "nbformat": 4,
 "nbformat_minor": 0
}

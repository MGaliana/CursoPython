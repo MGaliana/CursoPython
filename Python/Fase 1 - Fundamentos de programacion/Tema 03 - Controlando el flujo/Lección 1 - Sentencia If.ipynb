{
 "cells": [
  {
   "cell_type": "code",
   "execution_count": 1,
   "metadata": {
    "collapsed": false
   },
   "outputs": [
    {
     "name": "stdout",
     "output_type": "stream",
     "text": [
      "Se cumple la condición\n"
     ]
    }
   ],
   "source": [
    "if True:\n",
    "    print(\"Se cumple la condición\")"
   ]
  },
  {
   "cell_type": "code",
   "execution_count": 2,
   "metadata": {
    "collapsed": false
   },
   "outputs": [
    {
     "name": "stdout",
     "output_type": "stream",
     "text": [
      "a vale a 5\n"
     ]
    }
   ],
   "source": [
    "a = 5\n",
    "if a == 2:\n",
    "    print(\"a vale 2\")\n",
    "if a == 5:\n",
    "    print(\"a vale a 5\")"
   ]
  },
  {
   "cell_type": "code",
   "execution_count": 3,
   "metadata": {
    "collapsed": false
   },
   "outputs": [
    {
     "name": "stdout",
     "output_type": "stream",
     "text": [
      "a vale 5\n",
      "y b vale 10\n"
     ]
    }
   ],
   "source": [
    "a = 5\n",
    "b = 10\n",
    "if a == 5:\n",
    "    print(\"a vale\", a)\n",
    "    if b == 10:\n",
    "        print(\"y b vale\", b)"
   ]
  },
  {
   "cell_type": "code",
   "execution_count": 6,
   "metadata": {
    "collapsed": false
   },
   "outputs": [
    {
     "name": "stdout",
     "output_type": "stream",
     "text": [
      "Guay\n"
     ]
    }
   ],
   "source": [
    "if a == 5 and b == 10:\n",
    "    print (\"Guay\")"
   ]
  },
  {
   "cell_type": "code",
   "execution_count": 7,
   "metadata": {
    "collapsed": false
   },
   "outputs": [
    {
     "name": "stdout",
     "output_type": "stream",
     "text": [
      "10 par\n"
     ]
    }
   ],
   "source": [
    "n = 10\n",
    "if  n % 2 == 0:\n",
    "    print(n, \"par\")\n",
    "else:\n",
    "    print(n, \"impar\")"
   ]
  },
  {
   "cell_type": "code",
   "execution_count": 10,
   "metadata": {
    "collapsed": false
   },
   "outputs": [
    {
     "name": "stdout",
     "output_type": "stream",
     "text": [
      "Salir del sistema\n"
     ]
    }
   ],
   "source": [
    "comando = \"Salir\"\n",
    "if comando == \"Entrar\":\n",
    "    print(\"Welcome\")\n",
    "elif comando == \"Saludar\":\n",
    "    print (\"Estas dentro loco\")\n",
    "elif comando == \"Salir\":\n",
    "    print (\"Salir del sistema\")\n",
    "else:\n",
    "    print (\"No se recnoce\")"
   ]
  },
  {
   "cell_type": "code",
   "execution_count": 11,
   "metadata": {
    "collapsed": false
   },
   "outputs": [
    {
     "name": "stdout",
     "output_type": "stream",
     "text": [
      "introuduce una nota: 7\n",
      "Notable\n"
     ]
    }
   ],
   "source": [
    "nota = float( input(\"introuduce una nota: \"))\n",
    "if nota >= 9:\n",
    "    print (\"Excelente\")\n",
    "elif nota >= 7:\n",
    "    print(\"Notable\")\n",
    "elif nota >= 5:\n",
    "    print (\"Suficiente\")\n",
    "else:\n",
    "    print(\"insuficiente\")"
   ]
  },
  {
   "cell_type": "code",
   "execution_count": 13,
   "metadata": {
    "collapsed": false
   },
   "outputs": [
    {
     "name": "stdout",
     "output_type": "stream",
     "text": [
      "introuduce una nota: 10\n",
      "Excelente\n",
      "Notable\n",
      "Suficiente\n"
     ]
    }
   ],
   "source": [
    "nota = float( input(\"introuduce una nota: \"))\n",
    "if nota >= 9:\n",
    "    print (\"Excelente\")\n",
    "if nota >= 7:\n",
    "    print(\"Notable\")\n",
    "if nota >= 5:\n",
    "    print (\"Suficiente\")\n",
    "else:\n",
    "    print(\"insuficiente\")"
   ]
  },
  {
   "cell_type": "code",
   "execution_count": 14,
   "metadata": {
    "collapsed": true
   },
   "outputs": [],
   "source": [
    "if True:\n",
    "    pass"
   ]
  },
  {
   "cell_type": "code",
   "execution_count": null,
   "metadata": {
    "collapsed": true
   },
   "outputs": [],
   "source": []
  }
 ],
 "metadata": {
  "anaconda-cloud": {},
  "kernelspec": {
   "display_name": "Python [default]",
   "language": "python",
   "name": "python3"
  },
  "language_info": {
   "codemirror_mode": {
    "name": "ipython",
    "version": 3
   },
   "file_extension": ".py",
   "mimetype": "text/x-python",
   "name": "python",
   "nbconvert_exporter": "python",
   "pygments_lexer": "ipython3",
   "version": "3.5.2"
  }
 },
 "nbformat": 4,
 "nbformat_minor": 0
}
